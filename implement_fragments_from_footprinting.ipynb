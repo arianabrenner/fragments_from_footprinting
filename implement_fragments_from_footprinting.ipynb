{
 "cells": [
  {
   "cell_type": "markdown",
   "metadata": {},
   "source": [
    "# This notebook implements the software program: fragments_from_footprinting\n",
    "Author: Ariana Brenner Clerkin <br>\n",
    "Date: 2 March 2023"
   ]
  },
  {
   "cell_type": "markdown",
   "metadata": {},
   "source": [
    "Load appropriate modules"
   ]
  },
  {
   "cell_type": "code",
   "execution_count": 1,
   "metadata": {},
   "outputs": [],
   "source": [
    "import fragments_from_footprinting as ff"
   ]
  },
  {
   "cell_type": "code",
   "execution_count": 2,
   "metadata": {},
   "outputs": [],
   "source": [
    "\n",
    "import pandas as pd\n",
    "import numpy as np\n",
    "import seaborn as sns\n",
    "import matplotlib as mpl"
   ]
  },
  {
   "cell_type": "code",
   "execution_count": 3,
   "metadata": {},
   "outputs": [],
   "source": [
    "# import matplotlib as mpl\n",
    "# mpl.rcParams['font.family'] = 'sans-serif'\n",
    "# mpl.rcParams['font.sans-serif'] = ['Tahoma', 'DejaVu Sans',\n",
    "#                                'Lucida Grande', 'Verdana']\n",
    "import matplotlib.pyplot as plt"
   ]
  },
  {
   "cell_type": "code",
   "execution_count": null,
   "metadata": {},
   "outputs": [],
   "source": [
    "# Autosave this each time"
   ]
  },
  {
   "cell_type": "code",
   "execution_count": null,
   "metadata": {},
   "outputs": [],
   "source": [
    "example_cp = ff.generate_cleav_prob()"
   ]
  },
  {
   "cell_type": "code",
   "execution_count": null,
   "metadata": {},
   "outputs": [],
   "source": [
    "attempted, actual = ff.get_breaks_to_try(example_cp)"
   ]
  },
  {
   "cell_type": "code",
   "execution_count": null,
   "metadata": {},
   "outputs": [],
   "source": [
    "actual"
   ]
  },
  {
   "cell_type": "markdown",
   "metadata": {},
   "source": []
  },
  {
   "cell_type": "code",
   "execution_count": null,
   "metadata": {},
   "outputs": [],
   "source": [
    "1/150. * len(example_cp)"
   ]
  },
  {
   "cell_type": "code",
   "execution_count": null,
   "metadata": {},
   "outputs": [],
   "source": [
    "\n",
    "fraglens, mids = ff.get_fld(cleavage_prob=example_cp, trials = 100, break_rate = 150)"
   ]
  },
  {
   "cell_type": "code",
   "execution_count": null,
   "metadata": {},
   "outputs": [],
   "source": [
    "frags_and_mids = pd.DataFrame({'frag_len': fraglens,\n",
    "                      'midpoints': mids})\n",
    "# Autosave this each time\n",
    "frags_and_mids"
   ]
  },
  {
   "cell_type": "code",
   "execution_count": null,
   "metadata": {},
   "outputs": [],
   "source": [
    "plt.hist(fraglens, bins = 100)"
   ]
  },
  {
   "cell_type": "code",
   "execution_count": null,
   "metadata": {},
   "outputs": [],
   "source": [
    "min_range = -1200\n",
    "max_range = 1200\n",
    "midpt_bin_width = 10.\n",
    "bin_boundaries = list(np.linspace(min_range,max_range, 1+int((max_range-min_range)/midpt_bin_width)))\n",
    "bin_labels = bin_boundaries[:-1]"
   ]
  },
  {
   "cell_type": "code",
   "execution_count": null,
   "metadata": {},
   "outputs": [],
   "source": [
    "frags_and_mids['bin_mins'] = pd.cut(frags_and_mids['midpoints'], bins=bin_boundaries, labels=bin_labels)\n",
    "frags_and_mids_subset = frags_and_mids[frags_and_mids['bin_mins'] > 0.0]"
   ]
  },
  {
   "cell_type": "code",
   "execution_count": null,
   "metadata": {},
   "outputs": [],
   "source": [
    "frags_and_mids"
   ]
  },
  {
   "cell_type": "code",
   "execution_count": null,
   "metadata": {},
   "outputs": [],
   "source": [
    "data_fold = '/ru-auth/local/home/abrenner/myscratch/temp_footprint/'\n",
    "frags_and_mids = pd.read_csv(data_fold + \"fragment_lens_and_locations.csv\")"
   ]
  },
  {
   "cell_type": "code",
   "execution_count": null,
   "metadata": {},
   "outputs": [],
   "source": [
    "max_y_bin = 1000\n",
    "min_y = 0#50\n",
    "data_for_hist = frags_and_mids[frags_and_mids.frag_len<max_y_bin].frag_len\n",
    "stored_histogram = sns.histplot(data=data_for_hist, binwidth=10, stat= 'probability')\n",
    "plt.title('Fragment Length Distribution')\n",
    "plt.xlabel('Fragment Length (nt)')\n",
    "plt.tight_layout()\n",
    "plt.savefig(data_fold + 'fld.pdf')\n",
    "plt.show()"
   ]
  },
  {
   "cell_type": "code",
   "execution_count": null,
   "metadata": {},
   "outputs": [],
   "source": [
    "# min_y_range = 0.#50.\n",
    "# max_y_range = 1000.\n",
    "# bp_per_bin = 5.\n",
    "# bin_y_boundaries = list(np.linspace(min_y_range,max_y_range, 1+int((max_y_range-min_y_range)/bp_per_bin)))\n",
    "# bin_labels = frags_and_mids['bin_mins'].unique()\n",
    "# # v_plot_empty = np.zeros((len(bin_labels),len(bins[:-1])))\n",
    "# v_plot_empty = np.zeros((len(bin_labels),len(bin_y_boundaries[:-1])))\n",
    "# np.shape(v_plot_empty)\n",
    "\n",
    "# v_plot_empty\n",
    "\n",
    "# # Iterate through x-bins and grab FLDs per bin\n",
    "# for i in range(0,np.shape(v_plot_empty)[0]):\n",
    "#     flds_per_bin = np.array(frags_and_mids[frags_and_mids['bin_mins']==bin_labels[i]].frag_len)\n",
    "#     print(flds_per_bin)\n",
    "#     bin_heights, bins, patches = plt.hist(flds_per_bin, bins = bin_y_boundaries);\n",
    "#     #flipped so it plots in the right order\n",
    "#     v_plot_empty[i] = np.flip(bin_heights)"
   ]
  },
  {
   "cell_type": "code",
   "execution_count": null,
   "metadata": {},
   "outputs": [],
   "source": []
  },
  {
   "cell_type": "code",
   "execution_count": null,
   "metadata": {},
   "outputs": [],
   "source": [
    "# im = ax[1].imshow(v_plot_empty.T, cmap='seismic', extent = [min_range, max_range, min_y_range, max_y_range])"
   ]
  },
  {
   "cell_type": "code",
   "execution_count": null,
   "metadata": {},
   "outputs": [],
   "source": [
    "hist2d = sns.histplot(frags_and_mids, x=\"midpoints\", y=\"frag_len\", color = \"red\", binwidth=(10, 10), cbar=True)"
   ]
  },
  {
   "cell_type": "code",
   "execution_count": null,
   "metadata": {},
   "outputs": [],
   "source": [
    "hist2d = sns.heatmap(frags_and_mids, x=\"midpoints\", y=\"frag_len\", color = \"red\", binwidth=(10, 10), cbar=True)"
   ]
  },
  {
   "cell_type": "code",
   "execution_count": null,
   "metadata": {},
   "outputs": [],
   "source": [
    "min_range = -1200#50.\n",
    "max_range = 1200\n",
    "\n",
    "min_y_range = 0.#50.\n",
    "max_y_range = 1000.\n",
    "\n",
    "fig, ax = plt.subplots(2,1,figsize = (7,6), gridspec_kw={'height_ratios': [1, 4]}, sharex=True)\n",
    "midpoint = len(example_cp)/2\n",
    "cleavage = ax[0].plot(range(min_range, max_range), example_cp[min_range+midpoint:max_range+midpoint], linewidth=3)\n",
    "ax[0].set_ylabel('Cleavage \\n Prob.')\n",
    "ax[0].set_xlim((min_range,max_range))\n",
    "ax[0].spines['right'].set_visible(False)\n",
    "ax[0].spines['top'].set_visible(False)\n",
    "im = sns.displot(frags_and_mids, x=\"midpoints\", y=\"frag_len\", color = \"red\", binwidth=(10, 10), cbar=True)\n",
    "ax[1].set_xlabel('Distance from Midpoint to Fragment Center (bp)')\n",
    "ax[1].set_ylabel('Fragment \\n Length (nt)')\n",
    "plt.tight_layout()"
   ]
  },
  {
   "cell_type": "code",
   "execution_count": null,
   "metadata": {},
   "outputs": [],
   "source": [
    "data = sns.facet_data()"
   ]
  },
  {
   "cell_type": "code",
   "execution_count": null,
   "metadata": {},
   "outputs": [],
   "source": [
    "# hist2d.figure\n",
    "\n",
    "for ax in hist2d.axes.flat:\n",
    "    print (ax.lines)\n",
    "    for line in ax.lines:\n",
    "        print (line.get_data())\n",
    "        print (line.get_data())"
   ]
  },
  {
   "cell_type": "code",
   "execution_count": null,
   "metadata": {},
   "outputs": [],
   "source": [
    "cp"
   ]
  },
  {
   "cell_type": "code",
   "execution_count": null,
   "metadata": {},
   "outputs": [],
   "source": [
    "matrix, arr2, a ,b= plt.hist2d(x=frags_and_mids[\"midpoints\"], y=frags_and_mids[\"frag_len\"], bins=[1200,100])#, color = \"red\", binwidth=(10, 10), cbar=True)"
   ]
  },
  {
   "cell_type": "code",
   "execution_count": null,
   "metadata": {},
   "outputs": [],
   "source": [
    "np.shape(matrix)\n",
    "\n",
    "a = matrix\n",
    "row_sums = a.sum(axis=1)\n",
    "new_matrix = a / row_sums[:, np.newaxis]"
   ]
  },
  {
   "cell_type": "code",
   "execution_count": null,
   "metadata": {},
   "outputs": [],
   "source": [
    "im = plt.imshow(matrix.T, cmap='seismic', extent = [min_range, max_range, min_y_range, max_y_range])"
   ]
  },
  {
   "cell_type": "markdown",
   "metadata": {},
   "source": [
    "# try with bigger data"
   ]
  },
  {
   "cell_type": "code",
   "execution_count": null,
   "metadata": {},
   "outputs": [],
   "source": [
    "intermed_data = '/ru-auth/local/home/abrenner/myscratch/intermed_data/footprinting/vplot_input_'"
   ]
  },
  {
   "cell_type": "code",
   "execution_count": null,
   "metadata": {},
   "outputs": [],
   "source": [
    "all_fraglens_dyad_1_0_ld = np.load(intermed_data+'fraglens_simple_dyad.npy')\n",
    "all_mids = np.load(intermed_data+'simple_dyad_midpoints.npy')"
   ]
  },
  {
   "cell_type": "code",
   "execution_count": null,
   "metadata": {},
   "outputs": [],
   "source": [
    "frags_and_mids = pd.DataFrame({'frag_len': all_fraglens_dyad_1_0_ld[0],\n",
    "                      'midpoints': all_mids[0]})#-midpoint})"
   ]
  },
  {
   "cell_type": "code",
   "execution_count": null,
   "metadata": {},
   "outputs": [],
   "source": [
    "min_range = -1200\n",
    "max_range = 1200\n",
    "midpt_bin_width = 10.\n",
    "bin_boundaries = list(np.linspace(min_range,max_range, 1+int((max_range-min_range)/midpt_bin_width)))\n",
    "bin_labels = bin_boundaries[:-1]\n",
    "\n",
    "min_y_range = 0.#50.\n",
    "max_y_range = 1000.\n",
    "bp_per_bin = 5.\n",
    "bin_y_boundaries = list(np.linspace(min_y_range,max_y_range, 1+int((max_y_range-min_y_range)/bp_per_bin)))"
   ]
  },
  {
   "cell_type": "code",
   "execution_count": null,
   "metadata": {},
   "outputs": [],
   "source": [
    "matrix, arr2, a ,b= plt.hist2d(x=frags_and_mids[\"midpoints\"], y=frags_and_mids[\"frag_len\"], bins=[len(bin_labels),len(bin_y_boundaries[:-1])])#, color = \"red\", binwidth=(10, 10), cbar=True)\n",
    "im = plt.imshow(matrix.T, cmap='seismic', extent = [min_range, max_range, min_y_range, max_y_range])"
   ]
  },
  {
   "cell_type": "code",
   "execution_count": null,
   "metadata": {},
   "outputs": [],
   "source": [
    "np.shape(matrix)"
   ]
  },
  {
   "cell_type": "code",
   "execution_count": null,
   "metadata": {},
   "outputs": [],
   "source": [
    "frags_and_mids_new = frags_and_mids[(frags_and_mids.frag_len < 1000) & (np.abs(frags_and_mids.midpoints) < 1200)]"
   ]
  },
  {
   "cell_type": "code",
   "execution_count": null,
   "metadata": {},
   "outputs": [],
   "source": [
    "min_range = -1200\n",
    "max_range = 1200\n",
    "midpt_bin_width = 10.\n",
    "bin_boundaries = list(np.linspace(min_range,max_range, 1+int((max_range-min_range)/midpt_bin_width)))\n",
    "bin_labels = bin_boundaries[:-1]\n",
    "vplot_arr, _, _ , _= plt.hist2d(x=frags_and_mids_new[\"midpoints\"], y=frags_and_mids_new[\"frag_len\"], bins=[len(bin_labels),len(bin_y_boundaries[:-1])])#, color = \"red\", binwidth=(10, 10), cbar=True)"
   ]
  },
  {
   "cell_type": "code",
   "execution_count": null,
   "metadata": {},
   "outputs": [],
   "source": [
    "plt.hist(a)"
   ]
  },
  {
   "cell_type": "code",
   "execution_count": null,
   "metadata": {},
   "outputs": [],
   "source": [
    "# m2 = type(np.asmatrix(matrix))\n",
    "mat_to_plot = np.flip(matrix)\n",
    "im = plt.imshow(mat_to_plot, cmap='seismic', extent = [min_range, max_range, min_y_range, max_y_range])"
   ]
  },
  {
   "cell_type": "code",
   "execution_count": null,
   "metadata": {},
   "outputs": [],
   "source": [
    "import matplotlib as mpl\n",
    "mpl.rcParams['xtick.labelsize'] = 14\n",
    "mpl.rcParams['ytick.labelsize'] = 14\n",
    "mpl.rcParams['axes.titlesize'] = 14\n",
    "mpl.rcParams['axes.labelsize'] = 14\n",
    "#Need to change color of null values, no values <50bp\n",
    "# current_cmap = matplotlib.cm.get_cmap()\n",
    "# current_cmap.set_bad(color='red') # set nulls as black\n",
    "fig, ax = plt.subplots(2,1,figsize = (7,6), gridspec_kw={'height_ratios': [1, 4]}, sharex=True)\n",
    "# cleavage = ax[0].plot(range(min_range, max_range), cleav_dyad_1_0_1[min_range+midpoint:max_range+midpoint], linewidth=3)\n",
    "ax[0].set_ylabel('Cleavage \\n Prob.')\n",
    "ax[0].set_xlim((min_range,max_range))\n",
    "ax[0].spines['right'].set_visible(False)\n",
    "ax[0].spines['top'].set_visible(False)\n",
    "im = ax[1].imshow(mat_to_plot, cmap='seismic', extent = [min_range, max_range, min_y_range, max_y_range])\n",
    "ax[1].set_xlabel('Distance from Midpoint to Fragment Center (bp)')\n",
    "ax[1].set_ylabel('Fragment \\n Length (nt)')\n",
    "plt.tight_layout()"
   ]
  },
  {
   "cell_type": "code",
   "execution_count": null,
   "metadata": {},
   "outputs": [],
   "source": [
    "tdf = '/ru-auth/local/home/abrenner/myscratch/temp_footprint/'"
   ]
  },
  {
   "cell_type": "code",
   "execution_count": null,
   "metadata": {},
   "outputs": [],
   "source": [
    "min_range = -1200\n",
    "max_range = 1200\n",
    "min_y_range = 0.#50.\n",
    "max_y_range = 1000.\n",
    "\n",
    "matrix = np.load(tdf+'vplot_arr.npy')\n",
    "# m2 = type(np.asmatrix(matrix))\n",
    "mat_to_plot = np.flip(matrix.T)\n",
    "im = plt.imshow(mat_to_plot, cmap='seismic', extent = [min_range, max_range, min_y_range, max_y_range])"
   ]
  },
  {
   "cell_type": "code",
   "execution_count": null,
   "metadata": {},
   "outputs": [],
   "source": [
    "np.max(matrix)"
   ]
  },
  {
   "cell_type": "code",
   "execution_count": null,
   "metadata": {},
   "outputs": [],
   "source": [
    "from sklearn import preprocessing"
   ]
  },
  {
   "cell_type": "code",
   "execution_count": null,
   "metadata": {},
   "outputs": [],
   "source": [
    "# min_max_normalize to use full color bar\n",
    "min_max_scaler = preprocessing.MinMaxScaler()\n",
    "v = mat_to_plot\n",
    "v_scaled = min_max_scaler.fit_transform(v)\n",
    "mat_to_plot = v_scaled"
   ]
  },
  {
   "cell_type": "code",
   "execution_count": null,
   "metadata": {},
   "outputs": [],
   "source": [
    "mat_to_plot"
   ]
  },
  {
   "cell_type": "code",
   "execution_count": null,
   "metadata": {},
   "outputs": [],
   "source": [
    "fig, ax = plt.subplots(figsize = (7,6))#, gridspec_kw={'height_ratios': [1, 4]}, sharex=True)\n",
    "im = plt.imshow(mat_to_plot, cmap='seismic', extent = [min_range, max_range, min_y_range, max_y_range])\n",
    "\n",
    "cbar_ax = fig.add_axes([0.9, 0.22, 0.025, 0.33])\n",
    "cbar = fig.colorbar(im, ax=ax, cax=cbar_ax)#shrink=0.35)\n",
    "cbar.set_label('Min-Max Normalized Counts')"
   ]
  },
  {
   "cell_type": "markdown",
   "metadata": {},
   "source": [
    "## Plot "
   ]
  },
  {
   "cell_type": "code",
   "execution_count": null,
   "metadata": {},
   "outputs": [],
   "source": [
    "import matplotlib as mpl"
   ]
  },
  {
   "cell_type": "code",
   "execution_count": null,
   "metadata": {},
   "outputs": [],
   "source": [
    "# a = v_plot_empty.T\n",
    "# vplot_norm = a/np.sum(a)\n",
    "mpl.rcParams['xtick.labelsize'] = 14\n",
    "mpl.rcParams['ytick.labelsize'] = 14\n",
    "mpl.rcParams['axes.titlesize'] = 14\n",
    "mpl.rcParams['axes.labelsize'] = 14\n",
    "\n",
    "midpoint = len(example_cp)/2\n",
    "\n",
    "fig, ax = plt.subplots(2,1,figsize = (9,6), gridspec_kw={'height_ratios': [1, 4]}, sharex=True)\n",
    "cp_to_plot = example_cp[int(min_range)+int(midpoint):int(max_range)+int(midpoint)]\n",
    "ax[0].plot(np.linspace(min_range, max_range, len(cp_to_plot)),cp_to_plot)#, linewidth=3)\n",
    "# cleavage = \n",
    "ax[0].set_ylabel('Cleavage \\n Prob.')\n",
    "ax[0].set_xlim((min_range,max_range))\n",
    "ax[0].spines['right'].set_visible(False)\n",
    "ax[0].spines['top'].set_visible(False)\n",
    "im = ax[1].imshow(mat_to_plot, cmap='seismic', extent = [min_range, max_range, min_y_range, max_y_range])\n",
    "ax[1].set_xlabel('Distance from Fiber Midpoint to Fragment Center (nt)')\n",
    "ax[1].set_ylabel('Fragment \\n Length (nt)')\n",
    "# divider = make_axes_locatable(ax)\n",
    "# cax = divider.append_axes(\"right\", size=\"5%\", pad=0.05)\n",
    "# cax = fig.add_axes([ax[1].get_position().x1+0.01,ax.get_position().y0,0.02,ax.get_position().height])\n",
    "fig.subplots_adjust(right=0.8)\n",
    "cbar_ax = fig.add_axes([0.85, 0.22, 0.025, 0.33])\n",
    "cbar = fig.colorbar(im, ax=ax[1], cax=cbar_ax)#shrink=0.35)\n",
    "cbar.set_label('Count Density')\n",
    "# plt.tight_layout()\n",
    "\n",
    "plt.savefig(data_fold+'temp.pdf')"
   ]
  },
  {
   "cell_type": "code",
   "execution_count": null,
   "metadata": {},
   "outputs": [],
   "source": [
    "len(example_cp[int(min_range)+int(midpoint):int(max_range)+int(midpoint)])"
   ]
  },
  {
   "cell_type": "code",
   "execution_count": null,
   "metadata": {},
   "outputs": [],
   "source": []
  },
  {
   "cell_type": "code",
   "execution_count": null,
   "metadata": {},
   "outputs": [],
   "source": [
    "len(cp_to_plot)"
   ]
  },
  {
   "cell_type": "markdown",
   "metadata": {},
   "source": [
    "# Test vplot_data function"
   ]
  },
  {
   "cell_type": "code",
   "execution_count": null,
   "metadata": {},
   "outputs": [],
   "source": [
    "example_cp = ff.generate_cleav_prob()\n",
    "intermed_data = '/ru-auth/local/home/abrenner/myscratch/intermed_data/footprinting/vplot_input_'\n",
    "all_fraglens_dyad_1_0_ld = np.load(intermed_data+'fraglens_simple_dyad.npy')\n",
    "all_mids = np.load(intermed_data+'simple_dyad_midpoints.npy')\n",
    "frags_and_mids = pd.DataFrame({'frag_len': all_fraglens_dyad_1_0_ld[0],\n",
    "                      'midpoints': all_mids[0]})#-midpoint})\n",
    "vp_data = ff.vplot_data(frags_and_mids)"
   ]
  },
  {
   "cell_type": "code",
   "execution_count": null,
   "metadata": {},
   "outputs": [],
   "source": [
    "np.shape(vp_data)"
   ]
  },
  {
   "cell_type": "code",
   "execution_count": null,
   "metadata": {},
   "outputs": [],
   "source": [
    "int(7.)/2."
   ]
  },
  {
   "cell_type": "code",
   "execution_count": 15,
   "metadata": {},
   "outputs": [
    {
     "data": {
      "image/png": "[encoded data removed]",
      "text/plain": [
       "<Figure size 640x480 with 1 Axes>"
      ]
     },
     "metadata": {},
     "output_type": "display_data"
    }
   ],
   "source": [
    "min_range = -1200\n",
    "max_range = 1200\n",
    "min_y_range = 0.#50.\n",
    "max_y_range = 1000.\n",
    "matrix = np.load('vplot_arr.npy')\n",
    "mat_to_plot = np.flip(vp_data.T)\n",
    "im = plt.imshow(mat_to_plot, cmap='seismic', extent = [min_range, max_range, min_y_range, max_y_range])"
   ]
  },
  {
   "cell_type": "code",
   "execution_count": null,
   "metadata": {},
   "outputs": [],
   "source": [
    "ff.nrl*ff.num_nucs+ff.link_len"
   ]
  },
  {
   "cell_type": "code",
   "execution_count": null,
   "metadata": {},
   "outputs": [],
   "source": [
    "len(example_cp)/2"
   ]
  },
  {
   "cell_type": "code",
   "execution_count": null,
   "metadata": {},
   "outputs": [],
   "source": [
    "midpoint = len(example_cp)/2"
   ]
  },
  {
   "cell_type": "markdown",
   "metadata": {},
   "source": [
    "# All together now"
   ]
  },
  {
   "cell_type": "code",
   "execution_count": 4,
   "metadata": {},
   "outputs": [],
   "source": [
    "data_fold = '/ru-auth/local/home/abrenner/myscratch/temp_footprint/'"
   ]
  },
  {
   "cell_type": "code",
   "execution_count": 5,
   "metadata": {},
   "outputs": [
    {
     "name": "stdout",
     "output_type": "stream",
     "text": [
      "/lustre/fs4/risc_lab/scratch/abrenner/temp_footprint\n"
     ]
    }
   ],
   "source": [
    "cd /ru-auth/local/home/abrenner/myscratch/temp_footprint/"
   ]
  },
  {
   "cell_type": "code",
   "execution_count": 6,
   "metadata": {},
   "outputs": [
    {
     "data": {
      "text/plain": [
       "'/lustre/fs4/risc_lab/scratch/abrenner/temp_footprint'"
      ]
     },
     "execution_count": 6,
     "metadata": {},
     "output_type": "execute_result"
    }
   ],
   "source": [
    "pwd"
   ]
  },
  {
   "cell_type": "code",
   "execution_count": 7,
   "metadata": {},
   "outputs": [
    {
     "data": {
      "image/png": "[encoded data removed]",
      "text/plain": [
       "<Figure size 900x600 with 3 Axes>"
      ]
     },
     "metadata": {},
     "output_type": "display_data"
    }
   ],
   "source": [
    "cp = ff.generate_cleav_prob()\n",
    "frag_lens_all_trials, midpts_all_trials = ff.get_fld(cp)\n",
    "fm = ff.frag_mid_df(frag_lens_all_trials, midpts_all_trials)\n",
    "vp_data = ff.vplot_data(fm)\n",
    "ff.plot_vplot(vp_data)"
   ]
  },
  {
   "cell_type": "code",
   "execution_count": null,
   "metadata": {},
   "outputs": [],
   "source": [
    "dist_from_center = 300\n",
    "max_frag = 500\n",
    "bin_locs=10\n",
    "bin_lens = 1\n",
    "midpt = int(len(cp)/2)\n",
    "fm['relative_mid'] = fm.midpoints - midpt\n",
    "fm_sub = fm[(fm.frag_len < max_frag) & (np.abs(fm.relative_mid) < dist_from_center)]\n",
    "min_range = -1. * dist_from_center\n",
    "max_range = dist_from_center\n",
    "    # midpt_bin_width = 10.\n",
    "bin_boundaries = list(np.linspace(min_range,max_range, 1+int((max_range-min_range)/bin_locs)))\n",
    "bin_labels = bin_boundaries[:-1]\n",
    "min_frag = 0.\n",
    "bin_len_boundaries = list(np.linspace(min_frag,max_frag, 1+int((max_frag-min_frag)/bin_lens)))\n",
    "    \n",
    "    \n",
    "plt.hist2d(x=fm_sub[\"relative_mid\"], y=fm_sub[\"frag_len\"], bins=[len(bin_labels),len(bin_len_boundaries[:-1])])"
   ]
  },
  {
   "cell_type": "code",
   "execution_count": null,
   "metadata": {},
   "outputs": [],
   "source": [
    "fm"
   ]
  },
  {
   "cell_type": "code",
   "execution_count": null,
   "metadata": {},
   "outputs": [],
   "source": [
    "# max_y_bin = 1000\n",
    "# min_y = 0#50\n",
    "# data_for_hist = frags_and_mids[frags_and_mids.frag_len<max_y_bin].frag_len\n",
    "# stored_histogram = sns.histplot(data=frag_lens_all_trials, binwidth=10, stat= 'probability')\n",
    "# plt.title('Fragment Length Distribution')\n",
    "# plt.xlabel('Fragment Length (nt)')\n",
    "# plt.tight_layout()\n",
    "# # plt.savefig(data_fold + 'fld.pdf')\n",
    "# plt.show()"
   ]
  },
  {
   "cell_type": "code",
   "execution_count": null,
   "metadata": {},
   "outputs": [],
   "source": [
    "ff.plot_fld()"
   ]
  },
  {
   "cell_type": "code",
   "execution_count": null,
   "metadata": {},
   "outputs": [],
   "source": [
    "#     frag_lens = np.load('frag_lens.npy') # TO DO write if statement if the file does not exist.\n",
    "\n",
    "fig, ax = plt.subplots(2,2,figsize = (11,6), gridspec_kw={'height_ratios': [1, 4], 'width_ratios': [9, 2]}, sharex=True)\n",
    "max_fragment = 1000\n",
    "# data_for_hist = pd.DataFrame(fm[fm.frag_len<max_y_bin].frag_len)\n",
    "frag_lens_sub = frag_lens_all_trials[frag_lens_all_trials<max_fragment]\n",
    "data_for_hist = pd.DataFrame({'frag_len':frag_lens_sub})\n",
    "sns.histplot(data=data_for_hist, y = 'frag_len', bins=100, stat= 'probability')#, element=\"poly\")\n",
    "plt.title('Fragment Length Distribution')\n",
    "plt.ylabel('Fragment Length (nt)')\n",
    "plt.tight_layout()\n",
    "#     plt.savefig('fld.pdf')\n",
    "plt.show() "
   ]
  },
  {
   "cell_type": "code",
   "execution_count": null,
   "metadata": {},
   "outputs": [],
   "source": [
    "frag_lens_all_trials[frag_lens_all_trials<20]"
   ]
  },
  {
   "cell_type": "code",
   "execution_count": null,
   "metadata": {},
   "outputs": [],
   "source": [
    "# a = v_plot_empty.T\n",
    "# vplot_norm = a/np.sum(a)\n",
    "mpl.rcParams['xtick.labelsize'] = 14\n",
    "mpl.rcParams['ytick.labelsize'] = 14\n",
    "mpl.rcParams['axes.titlesize'] = 14\n",
    "mpl.rcParams['axes.labelsize'] = 14\n",
    "\n",
    "midpoint = len(cp)/2\n",
    "\n",
    "fig, (ax1, ax2) = plt.subplots(2,2,figsize = (11,6), gridspec_kw={'height_ratios': [1, 4], 'width_ratios': [9, 2]})#, sharex=True, sharey=True)\n",
    "cp_to_plot = cp[int(min_range)+int(midpoint):int(max_range)+int(midpoint)]\n",
    "ax1[0].plot(np.linspace(min_range, max_range, len(cp_to_plot)),cp_to_plot)#, linewidth=3)\n",
    "# cleavage = \n",
    "ax1[0].set_ylabel('Cleavage \\n Prob.')\n",
    "ax1[0].set_xlim((min_range,max_range))\n",
    "\n",
    "# Get rid of unwanted axes\n",
    "ax1[0].spines['right'].set_visible(False)\n",
    "ax1[0].spines['top'].set_visible(False)\n",
    "ax2[1].spines['right'].set_visible(False)\n",
    "ax2[1].spines['top'].set_visible(False)\n",
    "\n",
    "#Clear top right plot\n",
    "ax1[1].clear()\n",
    "ax1[1].axis(\"off\")\n",
    "ax1[1].set_visible(False)\n",
    "ax1[1].remove()\n",
    "\n",
    "im = ax2[0].imshow(mat_to_plot, cmap='seismic', extent = [min_range, max_range, min_y_range, max_y_range], aspect=1)\n",
    "ax2[0].set_xlabel('Distance from Fiber Midpoint to Fragment Center (nt)')\n",
    "ax2[0].set_ylabel('Fragment \\n Length (nt)')\n",
    "fig.subplots_adjust(right=0.8)\n",
    "cbar_ax = fig.add_axes([0.85, 0.22, 0.025, 0.33])\n",
    "cbar = fig.colorbar(im, ax=ax2[0], cax=cbar_ax)#shrink=0.35)\n",
    "cbar.set_label('Count Density')\n",
    "\n",
    "# Set shared axes\n",
    "ax1[0].sharex(ax2[0])\n",
    "ax2[1].sharey(ax2[0])\n",
    "\n",
    "# asp = np.diff(ax2[1].get_xlim())[0] / np.diff(ax2[1].get_xlim())[0]\n",
    "# ax2[1].set_aspect(asp)\n",
    "# asp = np.diff(ax2[1].get_xlim())[0] / np.diff(ax2[1].get_ylim())[0]\n",
    "# asp /= np.abs(np.diff(ax2[0].get_xlim())[0] / np.diff(ax2[0].get_ylim())[0])\n",
    "# ax2[1].set_aspect(asp)\n",
    "\n",
    "# Got scaled value by guessing and checking.\n",
    "ax2[1].set_box_aspect(1.875)\n",
    "\n",
    "ax2[1].set_ylabel(' ')\n",
    "sns.histplot(data=data_for_hist, y = 'frag_len', bins=100, stat= 'probability', ax=ax2[1])#, element=\"poly\")\n",
    "# plt.tight_layout()\n",
    "\n",
    "# plt.savefig(data_fold+'temp.pdf')"
   ]
  }
 ],
 "metadata": {
  "kernelspec": {
   "display_name": "Python 3 (ipykernel)",
   "language": "python",
   "name": "python3"
  },
  "language_info": {
   "codemirror_mode": {
    "name": "ipython",
    "version": 3
   },
   "file_extension": ".py",
   "mimetype": "text/x-python",
   "name": "python",
   "nbconvert_exporter": "python",
   "pygments_lexer": "ipython3",
   "version": "3.8.13"
  }
 },
 "nbformat": 4,
 "nbformat_minor": 2
}
